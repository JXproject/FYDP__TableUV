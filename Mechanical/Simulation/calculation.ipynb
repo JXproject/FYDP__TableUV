{
 "metadata": {
  "language_info": {
   "codemirror_mode": {
    "name": "ipython",
    "version": 3
   },
   "file_extension": ".py",
   "mimetype": "text/x-python",
   "name": "python",
   "nbconvert_exporter": "python",
   "pygments_lexer": "ipython3",
   "version": "3.8.3-final"
  },
  "orig_nbformat": 2,
  "kernelspec": {
   "name": "python3",
   "display_name": "Python 3",
   "language": "python"
  }
 },
 "nbformat": 4,
 "nbformat_minor": 2,
 "cells": [
  {
   "cell_type": "code",
   "execution_count": 1,
   "metadata": {},
   "outputs": [],
   "source": [
    "# py libs\n",
    "import queue\n",
    "from dataclasses import dataclass\n",
    "from typing import Union, Tuple, Any, List\n",
    "# py libs for plot\n",
    "import numpy as np\n",
    "import copy\n",
    "from matplotlib import pyplot as plt\n",
    "from matplotlib import colors\n",
    "import os"
   ]
  },
  {
   "cell_type": "code",
   "execution_count": 4,
   "metadata": {},
   "outputs": [],
   "source": [
    "# Helper\n",
    "def mkdir(path):\n",
    "    # prep folders\n",
    "    if not os.path.exists(path):\n",
    "        os.mkdir(path)"
   ]
  },
  {
   "cell_type": "code",
   "execution_count": 61,
   "metadata": {},
   "outputs": [
    {
     "output_type": "stream",
     "name": "stdout",
     "text": [
      "- Exposure Radius: 6.696 [mm]\n- Exposure Duration Required: 0.512 [s]\n- Vehicle  Velocity Required: 2.613 [cm/s]\n"
     ]
    }
   ],
   "source": [
    "## === UV Coverage === ##\n",
    "# Configuration\n",
    "N_overlap = 2\n",
    "theta_deg = 60      # [deg] FOV (100% Peak)\n",
    "theta_fov_deg = 120 # [deg] FOV (range)\n",
    "h_mm = 3            # [mm]  Distance\n",
    "a_mm = 3            # [mm]  sensor dim\n",
    "P_w = 1.6           # [W]   Power Dissipation\n",
    "phi_e_mW_typ = 17.5 # [mW]  Radiant Flux (150 mA)\n",
    "phi_e_mW_min = 12.5 # [mW] \n",
    "phi_e_mW_typ2 = 21  # [mW]  (180 mA) \n",
    "Phi_e_mW = phi_e_mW_typ\n",
    "# Specification\n",
    "Q_dosage_avg_per_area = 10 #31.188 # [mJ/cm^2]\n",
    "# Calculation\n",
    "r_mm = h_mm * np.tan(np.deg2rad(theta_fov_deg/2)) + a_mm / 2\n",
    "A_mm2 = 4 * (r_mm ** 2)\n",
    "A_cm2 = A_mm2 / 100\n",
    "Q_dosage_avg_mWs = Q_dosage_avg_per_area * A_cm2\n",
    "# Result:\n",
    "t_exposure_s = Q_dosage_avg_mWs / (Phi_e_mW * N_overlap)\n",
    "v_robot_cm_s = r_mm * 2 / 10 / t_exposure_s\n",
    "print(\"- Exposure Radius: {0:.3f} [mm]\".format(r_mm))\n",
    "print(\"- Exposure Duration Required: {0:.3f} [s]\".format(t_exposure_s))\n",
    "print(\"- Vehicle  Velocity Required: {0:.3f} [cm/s]\".format(v_robot_cm_s))\n"
   ]
  },
  {
   "cell_type": "code",
   "execution_count": 62,
   "metadata": {},
   "outputs": [
    {
     "output_type": "stream",
     "name": "stdout",
     "text": [
      "- Total Power: 210.000 [mJ/cm^2]\n- Array Exposure Coverage: 870.500 [mm^2]\n- For a table of 1200[mm] x 700[mm]\n     - Total Cleaning Time:   8[min] 14[s]\n"
     ]
    }
   ],
   "source": [
    "L_combined = 65 # [mm]\n",
    "W = r_mm * 2    # [mm]\n",
    "W_table = 1200  # [mm]\n",
    "H_table = 700   # [mm]\n",
    "N_Led = 12      # [count]\n",
    "#\n",
    "A_exposure = L_combined * W\n",
    "t_total = W_table * H_table / A_exposure * t_exposure_s\n",
    "Q_uv_array = N_Led * Phi_e_mW\n",
    "print(\"- Total Power: {0:.3f} [mJ/cm^2]\".format(Q_uv_array))\n",
    "print(\"- Array Exposure Coverage: {0:.3f} [mm^2]\".format(A_exposure))\n",
    "print(\"- For a table of {0}[mm] x {1}[mm]\".format(W_table, H_table))\n",
    "print(\"     - Total Cleaning Time: {0:3d}[min] {1:2d}[s]\".format(int(t_total/60), int(t_total%60)))"
   ]
  }
 ]
}